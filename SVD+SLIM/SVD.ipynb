{
 "cells": [
  {
   "cell_type": "code",
   "execution_count": 1,
   "id": "8c9c34be",
   "metadata": {},
   "outputs": [
    {
     "name": "stdout",
     "output_type": "stream",
     "text": [
      "Requirement already satisfied: scikit-surprise in c:\\users\\hp\\anaconda3\\lib\\site-packages (1.1.3)\n",
      "Requirement already satisfied: scipy>=1.3.2 in c:\\users\\hp\\anaconda3\\lib\\site-packages (from scikit-surprise) (1.9.1)\n",
      "Requirement already satisfied: joblib>=1.0.0 in c:\\users\\hp\\anaconda3\\lib\\site-packages (from scikit-surprise) (1.1.0)\n",
      "Requirement already satisfied: numpy>=1.17.3 in c:\\users\\hp\\anaconda3\\lib\\site-packages (from scikit-surprise) (1.21.5)\n"
     ]
    }
   ],
   "source": [
    "!pip install scikit-surprise"
   ]
  },
  {
   "cell_type": "code",
   "execution_count": 2,
   "id": "7deed41c",
   "metadata": {},
   "outputs": [],
   "source": [
    "import pandas as pd"
   ]
  },
  {
   "cell_type": "code",
   "execution_count": 3,
   "id": "14a4b5aa",
   "metadata": {},
   "outputs": [],
   "source": [
    "df = pd.DataFrame(columns=[\"AS_1\", \"AS_2\", \"rating\"])"
   ]
  },
  {
   "cell_type": "code",
   "execution_count": 4,
   "id": "b1c16772",
   "metadata": {},
   "outputs": [],
   "source": [
    "df_0 = pd.DataFrame([['AS_0', 'AS_2', 7],\n",
    "                     ['AS_0', 'AS_5', 9],\n",
    "                     ['AS_0', 'AS_9', 2],\n",
    "                     ['AS_0', 'AS_0', 10]],\n",
    "                    columns=[\"AS_1\", \"AS_2\", \"rating\"])\n",
    "\n",
    "df = pd.concat([df, df_0])"
   ]
  },
  {
   "cell_type": "code",
   "execution_count": 5,
   "id": "bb4a40f2",
   "metadata": {},
   "outputs": [],
   "source": [
    "df_1 = pd.DataFrame([['AS_1', 'AS_1', 10],\n",
    "                     ['AS_1', 'AS_3', 8],\n",
    "                     ['AS_1', 'AS_7', 2],\n",
    "                     ['AS_1', 'AS_0', 10]],\n",
    "                    columns=[\"AS_1\", \"AS_2\", \"rating\"])\n",
    "\n",
    "df = pd.concat([df, df_1])"
   ]
  },
  {
   "cell_type": "code",
   "execution_count": 6,
   "id": "cbb34582",
   "metadata": {},
   "outputs": [],
   "source": [
    "df_2 = pd.DataFrame([['AS_2', 'AS_2', 10],\n",
    "                     ['AS_2', 'AS_6', 6],\n",
    "                     ['AS_2', 'AS_9', 3]],\n",
    "                    columns=[\"AS_1\", \"AS_2\", \"rating\"])\n",
    "\n",
    "df = pd.concat([df, df_2])"
   ]
  },
  {
   "cell_type": "code",
   "execution_count": 7,
   "id": "12a5c463",
   "metadata": {},
   "outputs": [],
   "source": [
    "df_3 = pd.DataFrame([['AS_3', 'AS_2', 8],\n",
    "                     ['AS_3', 'AS_3', 10],\n",
    "                     ['AS_3', 'AS_5', 8],\n",
    "                     ['AS_3', 'AS_8', 6]],\n",
    "                    columns=[\"AS_1\", \"AS_2\", \"rating\"])\n",
    "\n",
    "df = pd.concat([df, df_3])"
   ]
  },
  {
   "cell_type": "code",
   "execution_count": 8,
   "id": "be63a686",
   "metadata": {},
   "outputs": [],
   "source": [
    "df_4 = pd.DataFrame([['AS_4', 'AS_4', 10],\n",
    "                     ['AS_4', 'AS_9', 7],\n",
    "                     ['AS_4', 'AS_10', 6]],\n",
    "                    columns=[\"AS_1\", \"AS_2\", \"rating\"])\n",
    "\n",
    "df = pd.concat([df, df_4])"
   ]
  },
  {
   "cell_type": "code",
   "execution_count": 9,
   "id": "f32fafa2",
   "metadata": {},
   "outputs": [],
   "source": [
    "df_5 = pd.DataFrame([['AS_5', 'AS_3', 10],\n",
    "                     ['AS_5', 'AS_5', 10]],\n",
    "                    columns=[\"AS_1\", \"AS_2\", \"rating\"])\n",
    "\n",
    "df = pd.concat([df, df_5])"
   ]
  },
  {
   "cell_type": "code",
   "execution_count": 10,
   "id": "07738a86",
   "metadata": {},
   "outputs": [],
   "source": [
    "df_6 = pd.DataFrame([['AS_6', 'AS_4', 9],\n",
    "                     ['AS_6', 'AS_6', 10],\n",
    "                     ['AS_6', 'AS_9', 9]],\n",
    "                    columns=[\"AS_1\", \"AS_2\", \"rating\"])\n",
    "\n",
    "df = pd.concat([df, df_6])"
   ]
  },
  {
   "cell_type": "code",
   "execution_count": 11,
   "id": "491602dd",
   "metadata": {},
   "outputs": [],
   "source": [
    "df_7 = pd.DataFrame([['AS_7', 'AS_0', 4],\n",
    "                     ['AS_7', 'AS_1', 2],\n",
    "                     ['AS_7', 'AS_3', 8],\n",
    "                     ['AS_7', 'AS_5', 3],\n",
    "                     ['AS_7', 'AS_7', 10],\n",
    "                     ['AS_7', 'AS_9', 9]],\n",
    "                    columns=[\"AS_1\", \"AS_2\", \"rating\"])\n",
    "\n",
    "df = pd.concat([df, df_7])"
   ]
  },
  {
   "cell_type": "code",
   "execution_count": 12,
   "id": "207df44b",
   "metadata": {},
   "outputs": [],
   "source": [
    "df_8 = pd.DataFrame([['AS_8', 'AS_2', 9],\n",
    "                     ['AS_8', 'AS_8', 10],\n",
    "                     ['AS_8', 'AS_10', 7]],\n",
    "                    columns=[\"AS_1\", \"AS_2\", \"rating\"])\n",
    "\n",
    "df = pd.concat([df, df_8])"
   ]
  },
  {
   "cell_type": "code",
   "execution_count": 13,
   "id": "ec2e7cf4",
   "metadata": {},
   "outputs": [],
   "source": [
    "df_9 = pd.DataFrame([['AS_9', 'AS_4', 9],\n",
    "                     ['AS_9', 'AS_9', 10]],\n",
    "                    columns=[\"AS_1\", \"AS_2\", \"rating\"])\n",
    "\n",
    "df = pd.concat([df, df_9])"
   ]
  },
  {
   "cell_type": "code",
   "execution_count": 14,
   "id": "59d37719",
   "metadata": {},
   "outputs": [],
   "source": [
    "df_10 = pd.DataFrame([['AS_10', 'AS_3', 9],\n",
    "                      ['AS_10', 'AS_7', 8],\n",
    "                      ['AS_10', 'AS_10', 10]],\n",
    "                     columns=[\"AS_1\", \"AS_2\", \"rating\"])\n",
    "\n",
    "df = pd.concat([df, df_10])"
   ]
  },
  {
   "cell_type": "code",
   "execution_count": 15,
   "id": "4acec899",
   "metadata": {},
   "outputs": [
    {
     "data": {
      "text/html": [
       "<div>\n",
       "<style scoped>\n",
       "    .dataframe tbody tr th:only-of-type {\n",
       "        vertical-align: middle;\n",
       "    }\n",
       "\n",
       "    .dataframe tbody tr th {\n",
       "        vertical-align: top;\n",
       "    }\n",
       "\n",
       "    .dataframe thead th {\n",
       "        text-align: right;\n",
       "    }\n",
       "</style>\n",
       "<table border=\"1\" class=\"dataframe\">\n",
       "  <thead>\n",
       "    <tr style=\"text-align: right;\">\n",
       "      <th></th>\n",
       "      <th>AS_1</th>\n",
       "      <th>AS_2</th>\n",
       "      <th>rating</th>\n",
       "    </tr>\n",
       "  </thead>\n",
       "  <tbody>\n",
       "    <tr>\n",
       "      <th>0</th>\n",
       "      <td>AS_0</td>\n",
       "      <td>AS_2</td>\n",
       "      <td>7</td>\n",
       "    </tr>\n",
       "    <tr>\n",
       "      <th>1</th>\n",
       "      <td>AS_0</td>\n",
       "      <td>AS_5</td>\n",
       "      <td>9</td>\n",
       "    </tr>\n",
       "    <tr>\n",
       "      <th>2</th>\n",
       "      <td>AS_0</td>\n",
       "      <td>AS_9</td>\n",
       "      <td>2</td>\n",
       "    </tr>\n",
       "    <tr>\n",
       "      <th>3</th>\n",
       "      <td>AS_0</td>\n",
       "      <td>AS_0</td>\n",
       "      <td>10</td>\n",
       "    </tr>\n",
       "    <tr>\n",
       "      <th>4</th>\n",
       "      <td>AS_1</td>\n",
       "      <td>AS_1</td>\n",
       "      <td>10</td>\n",
       "    </tr>\n",
       "  </tbody>\n",
       "</table>\n",
       "</div>"
      ],
      "text/plain": [
       "   AS_1  AS_2 rating\n",
       "0  AS_0  AS_2      7\n",
       "1  AS_0  AS_5      9\n",
       "2  AS_0  AS_9      2\n",
       "3  AS_0  AS_0     10\n",
       "4  AS_1  AS_1     10"
      ]
     },
     "execution_count": 15,
     "metadata": {},
     "output_type": "execute_result"
    }
   ],
   "source": [
    "df.reset_index(drop=True, inplace=True)\n",
    "df.head()"
   ]
  },
  {
   "cell_type": "code",
   "execution_count": 16,
   "id": "1b4858ae",
   "metadata": {},
   "outputs": [
    {
     "data": {
      "text/plain": [
       "{'test_rmse': array([3.29429009, 3.72813864]),\n",
       " 'test_mae': array([2.4074015 , 2.92840564]),\n",
       " 'fit_time': (0.0009987354278564453, 0.0),\n",
       " 'test_time': (0.0, 0.0)}"
      ]
     },
     "execution_count": 16,
     "metadata": {},
     "output_type": "execute_result"
    }
   ],
   "source": [
    "from surprise import Dataset, NormalPredictor, Reader\n",
    "from surprise.model_selection import cross_validate\n",
    "\n",
    "\n",
    "# A reader is still needed but only the rating_scale param is requiered.\n",
    "reader = Reader(rating_scale=(1, 10))\n",
    "\n",
    "# The columns must correspond to user id, item id and ratings (in that order).\n",
    "data = Dataset.load_from_df(df[[\"AS_1\", \"AS_2\", \"rating\"]], reader)\n",
    "\n",
    "# We can now use this dataset as we please, e.g. calling cross_validate\n",
    "cross_validate(NormalPredictor(), data, cv=2)"
   ]
  },
  {
   "cell_type": "code",
   "execution_count": 17,
   "id": "8cead180",
   "metadata": {},
   "outputs": [
    {
     "name": "stdout",
     "output_type": "stream",
     "text": [
      "RMSE: 2.6538\n",
      "RMSE: 2.9448\n",
      "RMSE: 2.3649\n"
     ]
    }
   ],
   "source": [
    "from surprise.model_selection import KFold\n",
    "from surprise import SVD, KNNBasic, accuracy\n",
    "\n",
    "# define a cross-validation iterator\n",
    "kf = KFold(n_splits=3)\n",
    "\n",
    "algo = SVD()\n",
    "\n",
    "for trainset, testset in kf.split(data):\n",
    "\n",
    "    # train and test algorithm.\n",
    "    algo.fit(trainset)\n",
    "    predictions = algo.test(testset)\n",
    "\n",
    "    # Compute and print Root Mean Squared Error\n",
    "    accuracy.rmse(predictions, verbose=True)"
   ]
  },
  {
   "cell_type": "code",
   "execution_count": 18,
   "id": "c10c30f2",
   "metadata": {},
   "outputs": [
    {
     "data": {
      "text/plain": [
       "[Prediction(uid='AS_8', iid='AS_10', r_ui=7.0, est=7.754994611336025, details={'was_impossible': False}),\n",
       " Prediction(uid='AS_8', iid='AS_8', r_ui=10.0, est=7.421464435101023, details={'was_impossible': False}),\n",
       " Prediction(uid='AS_7', iid='AS_3', r_ui=8.0, est=6.970833622518473, details={'was_impossible': False}),\n",
       " Prediction(uid='AS_6', iid='AS_9', r_ui=9.0, est=7.65275661804046, details={'was_impossible': False}),\n",
       " Prediction(uid='AS_9', iid='AS_4', r_ui=9.0, est=7.866769050127604, details={'was_impossible': False}),\n",
       " Prediction(uid='AS_10', iid='AS_3', r_ui=9.0, est=8.069136908022998, details={'was_impossible': False}),\n",
       " Prediction(uid='AS_9', iid='AS_9', r_ui=10.0, est=7.317235842016323, details={'was_impossible': False}),\n",
       " Prediction(uid='AS_3', iid='AS_3', r_ui=10.0, est=7.8016146860925595, details={'was_impossible': False}),\n",
       " Prediction(uid='AS_4', iid='AS_10', r_ui=6.0, est=7.817083903713365, details={'was_impossible': False}),\n",
       " Prediction(uid='AS_2', iid='AS_2', r_ui=10.0, est=6.913588989789704, details={'was_impossible': False}),\n",
       " Prediction(uid='AS_0', iid='AS_9', r_ui=2.0, est=7.2845283325221235, details={'was_impossible': False}),\n",
       " Prediction(uid='AS_8', iid='AS_2', r_ui=9.0, est=7.5550530539755485, details={'was_impossible': False})]"
      ]
     },
     "execution_count": 18,
     "metadata": {},
     "output_type": "execute_result"
    }
   ],
   "source": [
    "predictions"
   ]
  },
  {
   "cell_type": "code",
   "execution_count": 37,
   "id": "b75666cb",
   "metadata": {},
   "outputs": [],
   "source": [
    "pred_1 = algo.predict(str('AS_3'), str('AS_8'))\n",
    "pred_2 = algo.predict(str('AS_8'), str('AS_3'))\n",
    "pred_3 = algo.predict(str('AS_0'), str('AS_7'))\n",
    "pred_4 = algo.predict(str('AS_7'), str('AS_0'))"
   ]
  },
  {
   "cell_type": "code",
   "execution_count": 38,
   "id": "d9af96ff",
   "metadata": {},
   "outputs": [
    {
     "name": "stdout",
     "output_type": "stream",
     "text": [
      "Prediction(uid='AS_3', iid='AS_8', est=7.1524728825)\n",
      "Prediction(uid='AS_8', iid='AS_3', est=7.7965024656)\n",
      "Prediction(uid='AS_0', iid='AS_7', est=7.4903005902)\n",
      "Prediction(uid='AS_7', iid='AS_0', est=5.9916417456)\n"
     ]
    }
   ],
   "source": [
    "print(f\"Prediction(uid='{pred_1.uid}', iid='{pred_1.iid}', est={round(pred_1.est, 10)})\")\n",
    "print(f\"Prediction(uid='{pred_2.uid}', iid='{pred_2.iid}', est={round(pred_2.est, 10)})\")\n",
    "print(f\"Prediction(uid='{pred_3.uid}', iid='{pred_3.iid}', est={round(pred_3.est, 10)})\")\n",
    "print(f\"Prediction(uid='{pred_4.uid}', iid='{pred_4.iid}', est={round(pred_4.est, 10)})\")"
   ]
  },
  {
   "cell_type": "code",
   "execution_count": null,
   "id": "9dda499e",
   "metadata": {},
   "outputs": [],
   "source": []
  }
 ],
 "metadata": {
  "kernelspec": {
   "display_name": "Python 3 (ipykernel)",
   "language": "python",
   "name": "python3"
  },
  "language_info": {
   "codemirror_mode": {
    "name": "ipython",
    "version": 3
   },
   "file_extension": ".py",
   "mimetype": "text/x-python",
   "name": "python",
   "nbconvert_exporter": "python",
   "pygments_lexer": "ipython3",
   "version": "3.9.13"
  }
 },
 "nbformat": 4,
 "nbformat_minor": 5
}
